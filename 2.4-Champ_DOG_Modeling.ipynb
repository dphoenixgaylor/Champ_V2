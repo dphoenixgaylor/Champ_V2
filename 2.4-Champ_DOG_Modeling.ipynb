{
 "cells": [
  {
   "cell_type": "markdown",
   "metadata": {},
   "source": [
    "# DOGS: Data Modelling #"
   ]
  },
  {
   "cell_type": "markdown",
   "metadata": {},
   "source": [
    "### Imports ###"
   ]
  },
  {
   "cell_type": "code",
   "execution_count": 86,
   "metadata": {},
   "outputs": [],
   "source": [
    "import pandas as pd\n",
    "import numpy as np\n",
    "import matplotlib.pyplot as plt\n",
    "from sklearn.model_selection import train_test_split\n",
    "from sklearn import svm\n",
    "import keras\n",
    "from keras.models import Sequential\n",
    "from keras.layers import Dense, Dropout\n",
    "from keras.utils import to_categorical"
   ]
  },
  {
   "cell_type": "markdown",
   "metadata": {},
   "source": [
    "### Data Preview ###\n",
    "Dog data was extracted from the data exported from the Champ_DOG_Transformation notebook."
   ]
  },
  {
   "cell_type": "code",
   "execution_count": 71,
   "metadata": {},
   "outputs": [],
   "source": [
    "dtd = pd.read_csv('dog_transformed_data.csv', index_col=0)"
   ]
  },
  {
   "cell_type": "code",
   "execution_count": 72,
   "metadata": {},
   "outputs": [
    {
     "name": "stdout",
     "output_type": "stream",
     "text": [
      "Total entries:  52240\n"
     ]
    },
    {
     "data": {
      "text/html": [
       "<div>\n",
       "<style scoped>\n",
       "    .dataframe tbody tr th:only-of-type {\n",
       "        vertical-align: middle;\n",
       "    }\n",
       "\n",
       "    .dataframe tbody tr th {\n",
       "        vertical-align: top;\n",
       "    }\n",
       "\n",
       "    .dataframe thead th {\n",
       "        text-align: right;\n",
       "    }\n",
       "</style>\n",
       "<table border=\"1\" class=\"dataframe\">\n",
       "  <thead>\n",
       "    <tr style=\"text-align: right;\">\n",
       "      <th></th>\n",
       "      <th>Gender_LITTER</th>\n",
       "      <th>Gender_MALE</th>\n",
       "      <th>Gender_UNKNOWN</th>\n",
       "      <th>IntakeInternalStatus_AGG ANIMAL</th>\n",
       "      <th>IntakeInternalStatus_AGG BARRIE</th>\n",
       "      <th>IntakeInternalStatus_AGG FEAR</th>\n",
       "      <th>IntakeInternalStatus_AGG FOOD</th>\n",
       "      <th>IntakeInternalStatus_AGG PEOPLE</th>\n",
       "      <th>IntakeInternalStatus_AGGRESSIVE</th>\n",
       "      <th>IntakeInternalStatus_DEHYDRA</th>\n",
       "      <th>...</th>\n",
       "      <th>Breed_OTHER-LARGE</th>\n",
       "      <th>Breed_OTHER-MEDIUM</th>\n",
       "      <th>Breed_OTHER-SMALL</th>\n",
       "      <th>Breed_PIT BULL</th>\n",
       "      <th>Breed_POMERANIAN</th>\n",
       "      <th>Breed_POODLE - MINIATURE</th>\n",
       "      <th>Breed_PUG</th>\n",
       "      <th>Breed_ROTTWEILER</th>\n",
       "      <th>Breed_SHIH TZU</th>\n",
       "      <th>Breed_TERRIER-SMALL</th>\n",
       "    </tr>\n",
       "  </thead>\n",
       "  <tbody>\n",
       "    <tr>\n",
       "      <td>0</td>\n",
       "      <td>0</td>\n",
       "      <td>1</td>\n",
       "      <td>0</td>\n",
       "      <td>0</td>\n",
       "      <td>0</td>\n",
       "      <td>0</td>\n",
       "      <td>0</td>\n",
       "      <td>0</td>\n",
       "      <td>0</td>\n",
       "      <td>0</td>\n",
       "      <td>...</td>\n",
       "      <td>0</td>\n",
       "      <td>0</td>\n",
       "      <td>0</td>\n",
       "      <td>1</td>\n",
       "      <td>0</td>\n",
       "      <td>0</td>\n",
       "      <td>0</td>\n",
       "      <td>0</td>\n",
       "      <td>0</td>\n",
       "      <td>0</td>\n",
       "    </tr>\n",
       "    <tr>\n",
       "      <td>1</td>\n",
       "      <td>0</td>\n",
       "      <td>1</td>\n",
       "      <td>0</td>\n",
       "      <td>0</td>\n",
       "      <td>0</td>\n",
       "      <td>0</td>\n",
       "      <td>0</td>\n",
       "      <td>0</td>\n",
       "      <td>0</td>\n",
       "      <td>0</td>\n",
       "      <td>...</td>\n",
       "      <td>0</td>\n",
       "      <td>0</td>\n",
       "      <td>0</td>\n",
       "      <td>1</td>\n",
       "      <td>0</td>\n",
       "      <td>0</td>\n",
       "      <td>0</td>\n",
       "      <td>0</td>\n",
       "      <td>0</td>\n",
       "      <td>0</td>\n",
       "    </tr>\n",
       "    <tr>\n",
       "      <td>2</td>\n",
       "      <td>0</td>\n",
       "      <td>1</td>\n",
       "      <td>0</td>\n",
       "      <td>0</td>\n",
       "      <td>0</td>\n",
       "      <td>0</td>\n",
       "      <td>0</td>\n",
       "      <td>0</td>\n",
       "      <td>0</td>\n",
       "      <td>0</td>\n",
       "      <td>...</td>\n",
       "      <td>0</td>\n",
       "      <td>0</td>\n",
       "      <td>0</td>\n",
       "      <td>0</td>\n",
       "      <td>0</td>\n",
       "      <td>0</td>\n",
       "      <td>0</td>\n",
       "      <td>0</td>\n",
       "      <td>0</td>\n",
       "      <td>0</td>\n",
       "    </tr>\n",
       "    <tr>\n",
       "      <td>3</td>\n",
       "      <td>0</td>\n",
       "      <td>1</td>\n",
       "      <td>0</td>\n",
       "      <td>0</td>\n",
       "      <td>0</td>\n",
       "      <td>0</td>\n",
       "      <td>0</td>\n",
       "      <td>0</td>\n",
       "      <td>0</td>\n",
       "      <td>0</td>\n",
       "      <td>...</td>\n",
       "      <td>0</td>\n",
       "      <td>0</td>\n",
       "      <td>0</td>\n",
       "      <td>0</td>\n",
       "      <td>0</td>\n",
       "      <td>0</td>\n",
       "      <td>0</td>\n",
       "      <td>0</td>\n",
       "      <td>0</td>\n",
       "      <td>0</td>\n",
       "    </tr>\n",
       "    <tr>\n",
       "      <td>4</td>\n",
       "      <td>0</td>\n",
       "      <td>1</td>\n",
       "      <td>0</td>\n",
       "      <td>0</td>\n",
       "      <td>0</td>\n",
       "      <td>0</td>\n",
       "      <td>0</td>\n",
       "      <td>0</td>\n",
       "      <td>0</td>\n",
       "      <td>0</td>\n",
       "      <td>...</td>\n",
       "      <td>0</td>\n",
       "      <td>0</td>\n",
       "      <td>0</td>\n",
       "      <td>1</td>\n",
       "      <td>0</td>\n",
       "      <td>0</td>\n",
       "      <td>0</td>\n",
       "      <td>0</td>\n",
       "      <td>0</td>\n",
       "      <td>0</td>\n",
       "    </tr>\n",
       "  </tbody>\n",
       "</table>\n",
       "<p>5 rows × 108 columns</p>\n",
       "</div>"
      ],
      "text/plain": [
       "   Gender_LITTER  Gender_MALE  Gender_UNKNOWN  \\\n",
       "0              0            1               0   \n",
       "1              0            1               0   \n",
       "2              0            1               0   \n",
       "3              0            1               0   \n",
       "4              0            1               0   \n",
       "\n",
       "   IntakeInternalStatus_AGG ANIMAL  IntakeInternalStatus_AGG BARRIE  \\\n",
       "0                                0                                0   \n",
       "1                                0                                0   \n",
       "2                                0                                0   \n",
       "3                                0                                0   \n",
       "4                                0                                0   \n",
       "\n",
       "   IntakeInternalStatus_AGG FEAR  IntakeInternalStatus_AGG FOOD  \\\n",
       "0                              0                              0   \n",
       "1                              0                              0   \n",
       "2                              0                              0   \n",
       "3                              0                              0   \n",
       "4                              0                              0   \n",
       "\n",
       "   IntakeInternalStatus_AGG PEOPLE  IntakeInternalStatus_AGGRESSIVE  \\\n",
       "0                                0                                0   \n",
       "1                                0                                0   \n",
       "2                                0                                0   \n",
       "3                                0                                0   \n",
       "4                                0                                0   \n",
       "\n",
       "   IntakeInternalStatus_DEHYDRA  ...  Breed_OTHER-LARGE  Breed_OTHER-MEDIUM  \\\n",
       "0                             0  ...                  0                   0   \n",
       "1                             0  ...                  0                   0   \n",
       "2                             0  ...                  0                   0   \n",
       "3                             0  ...                  0                   0   \n",
       "4                             0  ...                  0                   0   \n",
       "\n",
       "   Breed_OTHER-SMALL  Breed_PIT BULL  Breed_POMERANIAN  \\\n",
       "0                  0               1                 0   \n",
       "1                  0               1                 0   \n",
       "2                  0               0                 0   \n",
       "3                  0               0                 0   \n",
       "4                  0               1                 0   \n",
       "\n",
       "   Breed_POODLE - MINIATURE  Breed_PUG  Breed_ROTTWEILER  Breed_SHIH TZU  \\\n",
       "0                         0          0                 0               0   \n",
       "1                         0          0                 0               0   \n",
       "2                         0          0                 0               0   \n",
       "3                         0          0                 0               0   \n",
       "4                         0          0                 0               0   \n",
       "\n",
       "   Breed_TERRIER-SMALL  \n",
       "0                    0  \n",
       "1                    0  \n",
       "2                    0  \n",
       "3                    0  \n",
       "4                    0  \n",
       "\n",
       "[5 rows x 108 columns]"
      ]
     },
     "execution_count": 72,
     "metadata": {},
     "output_type": "execute_result"
    }
   ],
   "source": [
    "print(\"Total entries: \", len(dtd))\n",
    "dtd.head()"
   ]
  },
  {
   "cell_type": "markdown",
   "metadata": {},
   "source": [
    "### Creating Train, Validation, and Test Sets ###\n",
    "The train, validation, test split was 60/20/20."
   ]
  },
  {
   "cell_type": "code",
   "execution_count": 73,
   "metadata": {},
   "outputs": [],
   "source": [
    "X = dtd.drop('LiveOutcome_1', axis = 1)\n",
    "y = dtd['LiveOutcome_1']"
   ]
  },
  {
   "cell_type": "code",
   "execution_count": 74,
   "metadata": {},
   "outputs": [],
   "source": [
    "X_trainval, X_test, y_trainval, y_test = train_test_split(X, y, test_size=0.2, random_state=1)\n",
    "X_train, X_val, y_train, y_val = train_test_split(X, y, test_size=0.25, random_state=1)"
   ]
  },
  {
   "cell_type": "markdown",
   "metadata": {},
   "source": [
    "### Using SVM Model as a Baseline ###"
   ]
  },
  {
   "cell_type": "code",
   "execution_count": 6,
   "metadata": {},
   "outputs": [
    {
     "name": "stderr",
     "output_type": "stream",
     "text": [
      "C:\\Users\\phoenix.gaylor\\AppData\\Local\\Continuum\\anaconda3\\lib\\site-packages\\sklearn\\svm\\base.py:193: FutureWarning: The default value of gamma will change from 'auto' to 'scale' in version 0.22 to account better for unscaled features. Set gamma explicitly to 'auto' or 'scale' to avoid this warning.\n",
      "  \"avoid this warning.\", FutureWarning)\n"
     ]
    },
    {
     "data": {
      "text/plain": [
       "0.8339395099540582"
      ]
     },
     "execution_count": 6,
     "metadata": {},
     "output_type": "execute_result"
    }
   ],
   "source": [
    "svm_clf = svm.SVC()\n",
    "svm_clf.fit(X_trainval, y_trainval)\n",
    "svm_clf.score(X_test, y_test)"
   ]
  },
  {
   "cell_type": "markdown",
   "metadata": {},
   "source": [
    "The SVM model, when trained on both the training and validation sets, obtained around 83% accuracy, which is an additional 22% over the guessing rate of 54% (all \"lived\"). This means using SVM results in 63% fewer misclassfications than guessing."
   ]
  },
  {
   "cell_type": "markdown",
   "metadata": {},
   "source": [
    "### Training a (Shallow) Neural Network ###"
   ]
  },
  {
   "cell_type": "markdown",
   "metadata": {},
   "source": [
    "#### Converting outcomes to a format interpretable by Keras ####"
   ]
  },
  {
   "cell_type": "code",
   "execution_count": 75,
   "metadata": {},
   "outputs": [],
   "source": [
    "y_trainval = to_categorical(y_trainval)\n",
    "y_train = to_categorical(y_train)\n",
    "y_val = to_categorical(y_val)\n",
    "y_test = to_categorical(y_test)"
   ]
  },
  {
   "cell_type": "markdown",
   "metadata": {},
   "source": [
    "#### Developing function that trains and evaluates a Keras model ####"
   ]
  },
  {
   "cell_type": "code",
   "execution_count": 76,
   "metadata": {},
   "outputs": [],
   "source": [
    "def test_model(d, u, ud, l = 0.2, e = 25, b = 62):\n",
    "    \n",
    "    \"\"\"Given the required parameters, builds a Keras model, fits it to the X_train and y_train sets, \n",
    "    and evaluates the model according to the validation set.\n",
    "    \n",
    "    Inputs:\n",
    "        d  - Dropout Rate\n",
    "        u  - Units in 1st layer\n",
    "        ud - Units in 2nd layer as the division of u/ud \n",
    "        l  - Learning Rate (default: 0.2)\n",
    "        e  - Number of epochs (default: 25)\n",
    "        b  - Batch size (default: 62)\n",
    "        \n",
    "    Outputs:\n",
    "        result - An array with the given d, u, ud, and model accuracy on the validation set\"\"\"\n",
    "    \n",
    "    model = Sequential()\n",
    "\n",
    "    model.add(Dense(units=u, \n",
    "                    activation='relu', \n",
    "                    kernel_initializer=keras.initializers.he_normal(seed=1),\n",
    "                    input_dim=len(X_train.columns)))\n",
    "    model.add(Dropout(d))\n",
    "    model.add(Dense(units=int(u/ud), activation='relu'))\n",
    "    model.add(Dropout(d))\n",
    "    model.add(Dense(units=2, activation='softmax'))\n",
    "\n",
    "    model.compile(loss=keras.losses.binary_crossentropy,\n",
    "                  optimizer=keras.optimizers.SGD(learning_rate=l),\n",
    "                  metrics=['accuracy'])\n",
    "\n",
    "    model.fit(X_train, y_train, epochs=e, batch_size=b, verbose=0)\n",
    "    print(\"Validation: \", model.evaluate(X_val, y_val))\n",
    "    result = [d, u, ud, model.evaluate(X_val, y_val)[1]]\n",
    "\n",
    "    return result"
   ]
  },
  {
   "cell_type": "markdown",
   "metadata": {},
   "source": [
    "#### Developing a function that loops through different parameters to determine optimal combination ####"
   ]
  },
  {
   "cell_type": "code",
   "execution_count": 78,
   "metadata": {
    "scrolled": true
   },
   "outputs": [],
   "source": [
    "def best_models(d_vals, u_vals, ud_vals, l = 0.2, e = 25, b = 62):\n",
    "        \n",
    "    \"\"\"Loops through each combination of dropout rates and units per layer and runs them through test_model().\n",
    "    \n",
    "    Inputs:\n",
    "        d_vals  - Dropout Rate values\n",
    "        u_vals  - Units in 1st layer values\n",
    "        ud_vals - Units in 2nd layer as the division of u/ud values\n",
    "        l       - Learning Rate (default: 0.2)\n",
    "        e       - Number of epochs (default: 25)\n",
    "        b       - Batch size (default: 62)\n",
    "        \n",
    "    Outputs:\n",
    "        result - An matrix with the given d_vals, u_vals, ud_vals, and their model accuracy on the validation set\"\"\"\n",
    "    \n",
    "    total_models = len(d_vals)*len(u_vals)*len(ud_vals)\n",
    "    results = np.zeros((total_models,4))\n",
    "    counter = 0\n",
    "    \n",
    "    for drate in d_vals:\n",
    "        d = drate\n",
    "    \n",
    "        for units in u_vals:\n",
    "            u = units\n",
    "        \n",
    "            for unitsd in ud_vals:\n",
    "                ud = unitsd\n",
    "                \n",
    "                print(\"d =\", drate, \" u =\", units, \" ud =\", unitsd, \" counter =\", counter)\n",
    "                results[counter] = test_model(d = d, u = u, ud = ud)\n",
    "                counter += 1\n",
    "                \n",
    "    return results"
   ]
  },
  {
   "cell_type": "markdown",
   "metadata": {},
   "source": [
    "#### Running best_models() to find the best Keras models ####\n",
    "Note: This takes a very long while to run."
   ]
  },
  {
   "cell_type": "code",
   "execution_count": 79,
   "metadata": {
    "scrolled": true
   },
   "outputs": [
    {
     "name": "stdout",
     "output_type": "stream",
     "text": [
      "d = 0.1  u = 64  ud = 1.5  counter = 0\n",
      "13060/13060 [==============================] - 0s 18us/step\n",
      "Validation:  [0.369460258700216, 0.8406584858894348]\n",
      "13060/13060 [==============================] - 0s 15us/step\n",
      "d = 0.1  u = 64  ud = 2  counter = 1\n",
      "13060/13060 [==============================] - 0s 17us/step\n",
      "Validation:  [0.3775390100424359, 0.8392802476882935]\n",
      "13060/13060 [==============================] - 0s 13us/step\n",
      "d = 0.1  u = 64  ud = 2.5  counter = 2\n",
      "13060/13060 [==============================] - 0s 19us/step\n",
      "Validation:  [0.3771347987250201, 0.8392036557197571]\n",
      "13060/13060 [==============================] - 0s 15us/step\n",
      "d = 0.1  u = 128  ud = 1.5  counter = 3\n",
      "13060/13060 [==============================] - 0s 17us/step\n",
      "Validation:  [0.37970013321472895, 0.8384379744529724]\n",
      "13060/13060 [==============================] - 0s 14us/step\n",
      "d = 0.1  u = 128  ud = 2  counter = 4\n",
      "13060/13060 [==============================] - 0s 31us/step\n",
      "Validation:  [0.3860089719432419, 0.8375957012176514]\n",
      "13060/13060 [==============================] - 0s 18us/step\n",
      "d = 0.1  u = 128  ud = 2.5  counter = 5\n",
      "13060/13060 [==============================] - 0s 14us/step\n",
      "Validation:  [0.38603701207324703, 0.8380551338195801]\n",
      "13060/13060 [==============================] - 0s 12us/step\n",
      "d = 0.1  u = 256  ud = 1.5  counter = 6\n",
      "13060/13060 [==============================] - 0s 17us/step\n",
      "Validation:  [0.4063443202864818, 0.8337672352790833]\n",
      "13060/13060 [==============================] - 0s 13us/step\n",
      "d = 0.1  u = 256  ud = 2  counter = 7\n",
      "13060/13060 [==============================] - 0s 18us/step\n",
      "Validation:  [0.4225919110783209, 0.8344563841819763]\n",
      "13060/13060 [==============================] - 0s 21us/step\n",
      "d = 0.1  u = 256  ud = 2.5  counter = 8\n",
      "13060/13060 [==============================] - 0s 16us/step\n",
      "Validation:  [0.4075781474742827, 0.8346860408782959]\n",
      "13060/13060 [==============================] - 0s 15us/step\n",
      "d = 0.1  u = 512  ud = 1.5  counter = 9\n",
      "13060/13060 [==============================] - 0s 30us/step\n",
      "Validation:  [0.4726245513961723, 0.8312404155731201]\n",
      "13060/13060 [==============================] - 0s 18us/step\n",
      "d = 0.1  u = 512  ud = 2  counter = 10\n",
      "13060/13060 [==============================] - 1s 44us/step\n",
      "Validation:  [0.4721569120353387, 0.8288667798042297]\n",
      "13060/13060 [==============================] - 1s 44us/step\n",
      "d = 0.1  u = 512  ud = 2.5  counter = 11\n",
      "13060/13060 [==============================] - 0s 25us/step\n",
      "Validation:  [0.4587577479111336, 0.8321592807769775]\n",
      "13060/13060 [==============================] - 0s 24us/step\n",
      "d = 0.1  u = 1024  ud = 1.5  counter = 12\n",
      "13060/13060 [==============================] - 1s 40us/step\n",
      "Validation:  [0.5714665950896364, 0.8227412104606628]\n",
      "13060/13060 [==============================] - 1s 41us/step\n",
      "d = 0.1  u = 1024  ud = 2  counter = 13\n",
      "13060/13060 [==============================] - 0s 33us/step\n",
      "Validation:  [0.5592563424320752, 0.828407347202301]\n",
      "13060/13060 [==============================] - 0s 33us/step\n",
      "d = 0.1  u = 1024  ud = 2.5  counter = 14\n",
      "13060/13060 [==============================] - 1s 52us/step\n",
      "Validation:  [0.5443818744290535, 0.8232005834579468]\n",
      "13060/13060 [==============================] - 1s 45us/step\n",
      "d = 0.3  u = 64  ud = 1.5  counter = 15\n",
      "13060/13060 [==============================] - 0s 14us/step\n",
      "Validation:  [0.366454045536142, 0.844027578830719]\n",
      "13060/13060 [==============================] - 0s 13us/step\n",
      "d = 0.3  u = 64  ud = 2  counter = 16\n",
      "13060/13060 [==============================] - 0s 23us/step\n",
      "Validation:  [0.36518039463763946, 0.8402756452560425]\n",
      "13060/13060 [==============================] - 0s 31us/step\n",
      "d = 0.3  u = 64  ud = 2.5  counter = 17\n",
      "13060/13060 [==============================] - 0s 14us/step\n",
      "Validation:  [0.3724321638620466, 0.8375957012176514]\n",
      "13060/13060 [==============================] - 0s 20us/step\n",
      "d = 0.3  u = 128  ud = 1.5  counter = 18\n",
      "13060/13060 [==============================] - 0s 14us/step\n",
      "Validation:  [0.3670146372676991, 0.8405819535255432]\n",
      "13060/13060 [==============================] - 0s 12us/step\n",
      "d = 0.3  u = 128  ud = 2  counter = 19\n",
      "13060/13060 [==============================] - 0s 15us/step\n",
      "Validation:  [0.3658321512649107, 0.8401990532875061]\n",
      "13060/13060 [==============================] - 0s 24us/step\n",
      "d = 0.3  u = 128  ud = 2.5  counter = 20\n",
      "13060/13060 [==============================] - 0s 18us/step\n",
      "Validation:  [0.3623931410575534, 0.843874454498291]\n",
      "13060/13060 [==============================] - 0s 12us/step\n",
      "d = 0.3  u = 256  ud = 1.5  counter = 21\n",
      "13060/13060 [==============================] - 0s 27us/step\n",
      "Validation:  [0.36923798666568114, 0.8419601917266846]\n",
      "13060/13060 [==============================] - 0s 31us/step\n",
      "d = 0.3  u = 256  ud = 2  counter = 22\n",
      "13060/13060 [==============================] - 0s 14us/step\n",
      "Validation:  [0.36596893758083743, 0.844333827495575]\n",
      "13060/13060 [==============================] - 0s 13us/step\n",
      "d = 0.3  u = 256  ud = 2.5  counter = 23\n",
      "13060/13060 [==============================] - 0s 16us/step\n",
      "Validation:  [0.36601885291783404, 0.84303218126297]\n",
      "13060/13060 [==============================] - 0s 20us/step\n",
      "d = 0.3  u = 512  ud = 1.5  counter = 24\n",
      "13060/13060 [==============================] - 1s 41us/step\n",
      "Validation:  [0.36925915274170057, 0.8415773510932922]\n",
      "13060/13060 [==============================] - 0s 22us/step\n",
      "d = 0.3  u = 512  ud = 2  counter = 25\n",
      "13060/13060 [==============================] - 0s 30us/step\n",
      "Validation:  [0.3799640747571612, 0.8384379744529724]\n",
      "13060/13060 [==============================] - 0s 17us/step\n",
      "d = 0.3  u = 512  ud = 2.5  counter = 26\n",
      "13060/13060 [==============================] - 0s 18us/step\n",
      "Validation:  [0.37411890061512293, 0.8414241671562195]\n",
      "13060/13060 [==============================] - 0s 16us/step\n",
      "d = 0.3  u = 1024  ud = 1.5  counter = 27\n",
      "13060/13060 [==============================] - 1s 85us/step\n",
      "Validation:  [0.39971440507022016, 0.8389739394187927]\n",
      "13060/13060 [==============================] - 1s 52us/step\n",
      "d = 0.3  u = 1024  ud = 2  counter = 28\n",
      "13060/13060 [==============================] - 1s 80us/step\n",
      "Validation:  [0.4007096847419443, 0.8346860408782959]\n",
      "13060/13060 [==============================] - 1s 53us/step\n",
      "d = 0.3  u = 1024  ud = 2.5  counter = 29\n",
      "13060/13060 [==============================] - 1s 44us/step\n",
      "Validation:  [0.38948929665715737, 0.8395099639892578]\n",
      "13060/13060 [==============================] - 0s 29us/step\n",
      "d = 0.5  u = 64  ud = 1.5  counter = 30\n",
      "13060/13060 [==============================] - 0s 14us/step\n",
      "Validation:  [0.3640408191869854, 0.8388974070549011]\n",
      "13060/13060 [==============================] - 0s 11us/step\n",
      "d = 0.5  u = 64  ud = 2  counter = 31\n",
      "13060/13060 [==============================] - 0s 13us/step\n",
      "Validation:  [0.36479354000794395, 0.8395864963531494]\n",
      "13060/13060 [==============================] - 0s 12us/step\n",
      "d = 0.5  u = 64  ud = 2.5  counter = 32\n",
      "13060/13060 [==============================] - 0s 13us/step\n",
      "Validation:  [0.36499666384040486, 0.8401990532875061]\n",
      "13060/13060 [==============================] - 0s 13us/step\n",
      "d = 0.5  u = 128  ud = 1.5  counter = 33\n",
      "13060/13060 [==============================] - 0s 18us/step\n",
      "Validation:  [0.3626589693163292, 0.8401990532875061]\n",
      "13060/13060 [==============================] - 0s 20us/step\n",
      "d = 0.5  u = 128  ud = 2  counter = 34\n",
      "13060/13060 [==============================] - 0s 14us/step\n",
      "Validation:  [0.35906485737876176, 0.8425727486610413]\n",
      "13060/13060 [==============================] - 0s 15us/step\n",
      "d = 0.5  u = 128  ud = 2.5  counter = 35\n",
      "13060/13060 [==============================] - 0s 17us/step\n",
      "Validation:  [0.36059213879462587, 0.8412710428237915]\n",
      "13060/13060 [==============================] - 0s 20us/step\n",
      "d = 0.5  u = 256  ud = 1.5  counter = 36\n",
      "13060/13060 [==============================] - 0s 17us/step\n",
      "Validation:  [0.3589960681146173, 0.8421133160591125]\n",
      "13060/13060 [==============================] - 0s 13us/step\n",
      "d = 0.5  u = 256  ud = 2  counter = 37\n",
      "13060/13060 [==============================] - 0s 15us/step\n",
      "Validation:  [0.35955369406326987, 0.8446401357650757]\n",
      "13060/13060 [==============================] - 0s 14us/step\n",
      "d = 0.5  u = 256  ud = 2.5  counter = 38\n",
      "13060/13060 [==============================] - 0s 14us/step\n",
      "Validation:  [0.36028667480940113, 0.8433384299278259]\n",
      "13060/13060 [==============================] - 0s 14us/step\n",
      "d = 0.5  u = 512  ud = 1.5  counter = 39\n",
      "13060/13060 [==============================] - 0s 31us/step\n",
      "Validation:  [0.3612596915142003, 0.8415773510932922]\n",
      "13060/13060 [==============================] - 0s 19us/step\n",
      "d = 0.5  u = 512  ud = 2  counter = 40\n",
      "13060/13060 [==============================] - 0s 25us/step\n",
      "Validation:  [0.3606908670976005, 0.8423430323600769]\n",
      "13060/13060 [==============================] - 0s 23us/step\n",
      "d = 0.5  u = 512  ud = 2.5  counter = 41\n",
      "13060/13060 [==============================] - 0s 19us/step\n",
      "Validation:  [0.36129039963892734, 0.8437978625297546]\n",
      "13060/13060 [==============================] - 0s 18us/step\n",
      "d = 0.5  u = 1024  ud = 1.5  counter = 42\n",
      "13060/13060 [==============================] - 1s 40us/step\n",
      "Validation:  [0.3604608125996078, 0.8463246822357178]\n",
      "13060/13060 [==============================] - 0s 34us/step\n",
      "d = 0.5  u = 1024  ud = 2  counter = 43\n",
      "13060/13060 [==============================] - 0s 31us/step\n",
      "Validation:  [0.36416369702604245, 0.8454824090003967]\n",
      "13060/13060 [==============================] - 0s 33us/step\n",
      "d = 0.5  u = 1024  ud = 2.5  counter = 44\n",
      "13060/13060 [==============================] - 0s 37us/step\n",
      "Validation:  [0.36685873492753523, 0.8424196243286133]\n",
      "13060/13060 [==============================] - 0s 26us/step\n"
     ]
    },
    {
     "data": {
      "text/plain": [
       "array([], shape=(0, 4), dtype=float64)"
      ]
     },
     "execution_count": 79,
     "metadata": {},
     "output_type": "execute_result"
    }
   ],
   "source": [
    "d_vals = [0.1, 0.3, 0.5]\n",
    "u_vals = [64, 128, 256, 512, 1024]\n",
    "ud_vals = [1.5, 2, 2.5]\n",
    "\n",
    "model_results = best_models(d_vals, u_vals, ud_vals)\n",
    "model_results[model_results[:,3] > .855]"
   ]
  },
  {
   "cell_type": "code",
   "execution_count": 81,
   "metadata": {},
   "outputs": [
    {
     "data": {
      "text/plain": [
       "array([[5.00000000e-01, 1.02400000e+03, 1.50000000e+00, 8.46324682e-01],\n",
       "       [5.00000000e-01, 1.02400000e+03, 2.00000000e+00, 8.45482409e-01]])"
      ]
     },
     "execution_count": 81,
     "metadata": {},
     "output_type": "execute_result"
    }
   ],
   "source": [
    "model_results[model_results[:,3] > .845]"
   ]
  },
  {
   "cell_type": "markdown",
   "metadata": {},
   "source": [
    "The models that lead the pack are D=0.3, U=1024, U2=1.5 & 2.0, with approximately 84.5% accuracy."
   ]
  },
  {
   "cell_type": "markdown",
   "metadata": {},
   "source": [
    "#### Tuning the best model ####\n",
    "Behind the scenes, I tried different combinations for learning rate, batch size, and number of epochs. It seems that a dropout of 0.3 typically results in severe overfitting and that the results above were by chance."
   ]
  },
  {
   "cell_type": "code",
   "execution_count": 111,
   "metadata": {
    "scrolled": true
   },
   "outputs": [
    {
     "name": "stdout",
     "output_type": "stream",
     "text": [
      "Train on 41792 samples, validate on 10448 samples\n",
      "Epoch 1/15\n",
      "41792/41792 [==============================] - 6s 133us/step - loss: 0.4818 - accuracy: 0.7705 - val_loss: 0.4003 - val_accuracy: 0.8258\n",
      "Epoch 2/15\n",
      "41792/41792 [==============================] - 5s 126us/step - loss: 0.4247 - accuracy: 0.8090 - val_loss: 0.3905 - val_accuracy: 0.8299\n",
      "Epoch 3/15\n",
      "41792/41792 [==============================] - 5s 117us/step - loss: 0.4094 - accuracy: 0.8175 - val_loss: 0.3838 - val_accuracy: 0.8351\n",
      "Epoch 4/15\n",
      "41792/41792 [==============================] - 5s 116us/step - loss: 0.3994 - accuracy: 0.8231 - val_loss: 0.3808 - val_accuracy: 0.8360\n",
      "Epoch 5/15\n",
      "41792/41792 [==============================] - 5s 125us/step - loss: 0.3942 - accuracy: 0.8265 - val_loss: 0.3818 - val_accuracy: 0.8376\n",
      "Epoch 6/15\n",
      "41792/41792 [==============================] - 5s 117us/step - loss: 0.3873 - accuracy: 0.8326 - val_loss: 0.3791 - val_accuracy: 0.8358\n",
      "Epoch 7/15\n",
      "41792/41792 [==============================] - 6s 136us/step - loss: 0.3821 - accuracy: 0.8318 - val_loss: 0.3792 - val_accuracy: 0.8353\n",
      "Epoch 8/15\n",
      "41792/41792 [==============================] - 6s 135us/step - loss: 0.3776 - accuracy: 0.8353 - val_loss: 0.3723 - val_accuracy: 0.8402\n",
      "Epoch 9/15\n",
      "41792/41792 [==============================] - 5s 130us/step - loss: 0.3745 - accuracy: 0.8373 - val_loss: 0.3824 - val_accuracy: 0.8397\n",
      "Epoch 10/15\n",
      "41792/41792 [==============================] - 5s 126us/step - loss: 0.3708 - accuracy: 0.8391 - val_loss: 0.3715 - val_accuracy: 0.8398\n",
      "Epoch 11/15\n",
      "41792/41792 [==============================] - 5s 121us/step - loss: 0.3672 - accuracy: 0.8409 - val_loss: 0.3710 - val_accuracy: 0.8411\n",
      "Epoch 12/15\n",
      "41792/41792 [==============================] - 5s 115us/step - loss: 0.3679 - accuracy: 0.8401 - val_loss: 0.3728 - val_accuracy: 0.8394\n",
      "Epoch 13/15\n",
      "41792/41792 [==============================] - 5s 121us/step - loss: 0.3608 - accuracy: 0.8429 - val_loss: 0.3720 - val_accuracy: 0.8404\n",
      "Epoch 14/15\n",
      "41792/41792 [==============================] - 5s 125us/step - loss: 0.3586 - accuracy: 0.8427 - val_loss: 0.3735 - val_accuracy: 0.8398\n",
      "Epoch 15/15\n",
      "41792/41792 [==============================] - 5s 119us/step - loss: 0.3573 - accuracy: 0.8453 - val_loss: 0.3697 - val_accuracy: 0.8404\n",
      "10448/10448 [==============================] - 0s 35us/step\n",
      "Test:  [0.36967288005589344, 0.8404479622840881]\n"
     ]
    }
   ],
   "source": [
    "model = Sequential()\n",
    "\n",
    "model.add(Dense(units=1024, \n",
    "                activation='relu', \n",
    "                kernel_initializer=keras.initializers.he_normal(seed=1),\n",
    "                input_dim=len(X_train.columns)))\n",
    "model.add(Dropout(0.5))\n",
    "model.add(Dense(units=int(1024/2), activation='relu'))\n",
    "model.add(Dropout(0.5))\n",
    "model.add(Dense(units=2, activation='softmax'))\n",
    "\n",
    "model.compile(loss=keras.losses.binary_crossentropy,\n",
    "                optimizer=keras.optimizers.SGD(learning_rate=0.1),\n",
    "                metrics=['accuracy'])\n",
    "\n",
    "history = model.fit(X_trainval, y_trainval, epochs=15, batch_size=60, verbose=1, validation_data = [X_test, y_test])\n",
    "print(\"Test: \", model.evaluate(X_test, y_test))"
   ]
  },
  {
   "cell_type": "markdown",
   "metadata": {},
   "source": [
    "The model performs very well on the test set, just shy of 84% accuracy. This is about 1% better than the SVM model with 8% fewer misclassifications."
   ]
  },
  {
   "cell_type": "code",
   "execution_count": 112,
   "metadata": {},
   "outputs": [
    {
     "data": {
      "image/png": "[encoded data removed]",
      "text/plain": [
       "<Figure size 432x288 with 1 Axes>"
      ]
     },
     "metadata": {
      "needs_background": "light"
     },
     "output_type": "display_data"
    }
   ],
   "source": [
    "plt.plot(history.history['accuracy'])\n",
    "plt.plot(history.history['val_accuracy'])\n",
    "plt.title('Model accuracy')\n",
    "plt.ylabel('Accuracy')\n",
    "plt.xlabel('Epoch')\n",
    "plt.legend(['Train', 'Test'], loc='upper left')\n",
    "plt.show()"
   ]
  },
  {
   "cell_type": "markdown",
   "metadata": {},
   "source": [
    "The model tends to do pretty well and does not severely overfit."
   ]
  },
  {
   "cell_type": "markdown",
   "metadata": {},
   "source": [
    "### Saving the Model ###"
   ]
  },
  {
   "cell_type": "code",
   "execution_count": 113,
   "metadata": {},
   "outputs": [],
   "source": [
    "model.save(\"dog_model.h5\")"
   ]
  }
 ],
 "metadata": {
  "kernelspec": {
   "display_name": "Python 3",
   "language": "python",
   "name": "python3"
  },
  "language_info": {
   "codemirror_mode": {
    "name": "ipython",
    "version": 3
   },
   "file_extension": ".py",
   "mimetype": "text/x-python",
   "name": "python",
   "nbconvert_exporter": "python",
   "pygments_lexer": "ipython3",
   "version": "3.7.4"
  }
 },
 "nbformat": 4,
 "nbformat_minor": 2
}
